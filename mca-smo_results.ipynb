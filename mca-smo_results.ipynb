{
 "cells": [
  {
   "cell_type": "markdown",
   "id": "c5228350",
   "metadata": {},
   "source": [
    "<h1> MCA - Mean Cluster Approach </h1>"
   ]
  },
  {
   "cell_type": "markdown",
   "id": "8b3bc90e",
   "metadata": {},
   "source": [
    "The cluster mass increases by collisions with other cluster. \n",
    "<br> Hipotheses:\n",
    "<ol>\n",
    "<li> Irreversible Collisions / fusions </li>\n",
    "<li> Rounding time scale is much smaller than collision time scale </li>\n",
    "<li> Clusters are round (sphere 3d, disk 2d) </li>\n",
    "<li> Cluster size distribution may be approximated by its average </li>  \n",
    "</ol> "
   ]
  },
  {
   "cell_type": "markdown",
   "id": "5aba38b3",
   "metadata": {},
   "source": [
    "<h3> 1. Irreversible Collisions / fusions </h3>\n",
    "\n",
    "Once the clusters colide and merge there is no cluster fragmentation. The fragmentation case will be explored later. \n",
    "\n",
    "<h3> 2. Rounding time scale is much smaller than collision time scale </h3>\n",
    "\n",
    "The clusters must be separated, this theory does not describe a percolated system that is only rounding over time. \n",
    "\n",
    "<h3> 3. Clusters are round (sphere 3d, disk 2d) </h3>\n",
    "\n",
    "Besides being not percolated, the aggregates must be approximatelly round, this means no elongated elipsis nor fractal interfaces either. \n",
    "\n",
    "<h3> 4. Cluster size distribution may be approximated by its average </h3>\n",
    "\n",
    "This model only describes the average mass behavior. It can only be aplied on cases where this makes sense. For example, in particles simulations, we clean the data from clusters that are smaller than 5 particles. Once those \n",
    "particles are not participating in the same dynamics as the bigger clusters. They are a source of noise in the\n",
    "power fitting process. Without those isolated particles, the cluster distribution is narrow and the approcimation \n",
    "is valid. "
   ]
  },
  {
   "cell_type": "markdown",
   "id": "8508453d",
   "metadata": {},
   "source": [
    "$$ \\frac{dm}{dt} = \\cal{C} m^{\\big(1-\\frac{(2-d\\nu)}{d}\\big)} \\bigg( 1.0 - \\frac{m}{m_{max}} \\bigg) $$"
   ]
  },
  {
   "cell_type": "markdown",
   "id": "44c05081",
   "metadata": {},
   "source": [
    "Where $m$ is the mean cluster mass on time $t$, $\\cal{C}$ is the coagulation constant. $d$ is the system dimention, typically $d = 2$. $\\nu$ is the exponent that relates the mass and its diffusion, $\\nu = -1$ is the trivial case or non collective one, the diffusion decreases as the mass increases; $\\nu = 0$ is the collective case as it does not matter the cluster mass the diffusion does not change as the particles are moving at its own speed. $m_{max}$ is the total mass present on the system, this term limits the growth to the number of particles present on the system.   "
   ]
  },
  {
   "cell_type": "markdown",
   "id": "6b85ce44",
   "metadata": {},
   "source": [
    "The solution presents a power law regime for intermediary time. $m(t) \\sim t^{\\lambda}$."
   ]
  },
  {
   "cell_type": "markdown",
   "id": "1deac27c",
   "metadata": {},
   "source": [
    "Some parameters are fixed depending on the simulations parameters, such as $d$ as the dimention as the simulations where made, $m_{max}$ is the number of particles or cells from the coagulationg type, in our case, $m_{max} = 2000$. The initial mean cluster value $m_0$ may be obtained from simulation data or we can normalize the data and always start with $m_0 = 1$ without losing   "
   ]
  },
  {
   "cell_type": "markdown",
   "id": "bc8e193a",
   "metadata": {},
   "source": [
    "$\\nu$ could be a free parameter to be ajusted, or measured from simulations. We measured its value from simulations and use it as a fixed parameter. "
   ]
  },
  {
   "cell_type": "markdown",
   "id": "088085fb",
   "metadata": {},
   "source": [
    "The only true free parameter is $\\cal{C}$ which does not change the exponent it only deslocates the curve on time.  "
   ]
  },
  {
   "cell_type": "markdown",
   "id": "bd9962d6",
   "metadata": {},
   "source": [
    "<img src=\"figs/mca_results.jpeg\" alt=\"MCA Results\" width=400>"
   ]
  },
  {
   "cell_type": "markdown",
   "id": "492d180f",
   "metadata": {},
   "source": [
    "In 2d, $\\nu = -1$ leads to a power law with $\\lambda = 1/2$ while $\\nu = 0$ leads to a power law with $\\lambda = 1$. \n"
   ]
  },
  {
   "cell_type": "markdown",
   "id": "9e6a3525",
   "metadata": {},
   "source": [
    "<h1> SMO - Smoluchowski Coagulation Equation </h1>"
   ]
  },
  {
   "cell_type": "markdown",
   "id": "eab5cbb4",
   "metadata": {},
   "source": [
    "To overcome the MCA limitation of describing only the average cluster mass, we require an theoretical \n",
    "approach that includes the mass distribution, such as the Smoluchowski coagulation Equation. \n",
    "\n",
    "The clusters may collide and fuse creating cluster with greater mass. This approach also requires some\n",
    "conditions. \n",
    "<br> Hipotheses:\n",
    "<ol>\n",
    "<li> Irreversible Collisions / fusions </li>\n",
    "<li> Rounding time scale is much smaller than collision time scale </li>\n",
    "<li> Clusters are round (sphere 3d, disk 2d) </li>\n",
    "</ol> \n",
    "\n",
    "We still are considering irreversible fusions, again it is possible to use a version of this equation with fragmentation, but for now we consider only coagulation. As the MCA, we consider clusters isolated, this means,\n",
    "we are interested in colision and fusion process not in round process or percolated cases. "
   ]
  },
  {
   "cell_type": "markdown",
   "id": "1d2724af",
   "metadata": {},
   "source": [
    "$$ \\frac{dn_k}{dt} =  \\frac{1}{2} \\displaystyle\\sum_{i=1}^{k-1} \n",
    "\\left( {\\cal{C}}_{i,k-i}n_in_{k-i} \\right)\n",
    "- \\displaystyle\\sum_{j=1}^\\infty \n",
    "\\left( {\\cal{C}}_{j,k}n_jn_{k} \\right)   $$"
   ]
  },
  {
   "cell_type": "markdown",
   "id": "bf3eda1d",
   "metadata": {},
   "source": [
    "$n_k$ is the density of cluster with mass equals to $k$ units. ${\\cal{C}}_{i,j}$ is the coagulation kernel, it is related to the probability of a cluster with mass $i$ and a cluster with mass $j$ merging. "
   ]
  },
  {
   "cell_type": "markdown",
   "id": "3c4bf574",
   "metadata": {},
   "source": [
    "$$ {\\cal{C}}_{ij} =  C \\left( i^\\nu + j^\\nu \\right) (i^\\mu + j^\\mu)   $$"
   ]
  },
  {
   "cell_type": "markdown",
   "id": "effd48d6",
   "metadata": {},
   "source": [
    "The probability of two clusters to colide depends on the diffusion of both. From MCA, each cluster diffusion obeys $ D(m) \\propto m^{\\nu} $ therefore, the cluster with mass $i$ will have diffusion $i^{\\nu}$ and mass $j$ diffusion $j^{\\nu}$.    "
   ]
  },
  {
   "cell_type": "markdown",
   "id": "2723ff50",
   "metadata": {},
   "source": [
    "Another factor is the cluster cross section, larger clusters will have larger contact area to colide to others."
   ]
  },
  {
   "cell_type": "markdown",
   "id": "31b6d7a1",
   "metadata": {},
   "source": [
    "<h1> Simulationg Discrete SMO - Smoluchowski Coagulation Equation </h1>"
   ]
  },
  {
   "cell_type": "markdown",
   "id": "2a525870",
   "metadata": {},
   "source": [
    "We can numerically solve the Smoluchowski equation and obtain the clucter density distribution. However the cluster distribution is continous while simulations presents a limited number of clusters."
   ]
  },
  {
   "cell_type": "markdown",
   "id": "14d6380a",
   "metadata": {},
   "source": [
    "We simulate a stochastic version of the equation. Each round we calculate the probability of colision for each cluster size pair combination. We perform the cluster colisions in agreement to those probabilities and update the cluster distribution. "
   ]
  },
  {
   "cell_type": "code",
   "execution_count": null,
   "id": "ff5605dc",
   "metadata": {},
   "outputs": [],
   "source": []
  },
  {
   "cell_type": "markdown",
   "id": "73603af3",
   "metadata": {},
   "source": [
    "<h2> Reproducing MCA Results </h2>"
   ]
  },
  {
   "cell_type": "markdown",
   "id": "9f4d22a2",
   "metadata": {},
   "source": [
    "Due to symmetry, in MCA the area effects are merely a constant, not changing the power law exponent. To reproduce the MCA results we use a coagulation kernel that depends on the clusters diffusion relation to its mass. "
   ]
  },
  {
   "cell_type": "markdown",
   "id": "cb56244b",
   "metadata": {},
   "source": [
    "$$ {\\cal{C}}_{ij} =  C \\left( i^\\nu + j^\\nu \\right) $$"
   ]
  },
  {
   "cell_type": "markdown",
   "id": "e8a52ed8",
   "metadata": {},
   "source": [
    "where $i$ and $j$ are the cluster masses and $\\nu$ is the diffusion mass relation exponent. "
   ]
  },
  {
   "cell_type": "markdown",
   "id": "e97491c5",
   "metadata": {},
   "source": [
    "<table style=\"background-color: #FFFFFF;\"><tr>\n",
    "<td style=\"background-color: #FFFFFF;\"> \n",
    "  <p align=\"center\" style=\"padding: 0px\" >\n",
    "      $ \\nu = -1.0 $\n",
    "    <img alt=\"Velocity\" src=\"smo-mca-comp_diff_-1.00_area_0.00/smo_res_and_power_laws.png\" width=\"446\">\n",
    "  </p> \n",
    "</td>\n",
    "<td style=\"background-color: #FFFFFF;\"> \n",
    "  <p align=\"center\" tyle=\"padding: 0px\">\n",
    "      $ \\nu = 0.0 $\n",
    "    <img alt=\"MSD\" src=\"smo-mca-comp_diff_0.00_area_0.00/smo_res_and_power_laws.png\" width=\"455\">\n",
    "  </p> \n",
    "</td>\n",
    "</tr></table>\n"
   ]
  },
  {
   "cell_type": "markdown",
   "id": "1bb4cfbe",
   "metadata": {},
   "source": [
    "We recover the exponents of MCA."
   ]
  },
  {
   "cell_type": "markdown",
   "id": "ddaf72a0",
   "metadata": {},
   "source": [
    "<table style=\"background-color: #FFFFFF;\"><tr>\n",
    "<td style=\"background-color: #FFFFFF;\"> \n",
    "  <p align=\"center\" style=\"padding: 0px\" >\n",
    "      $ \\nu = -1.0 $\n",
    "    <img alt=\"Velocity\" src=\"smo-mca-comp_diff_-1.00_area_0.00/smo_mca.png\" width=\"446\">\n",
    "  </p> \n",
    "</td>\n",
    "<td style=\"background-color: #FFFFFF;\"> \n",
    "  <p align=\"center\" tyle=\"padding: 0px\">\n",
    "      $ \\nu = 0.0 $\n",
    "    <img alt=\"MSD\" src=\"smo-mca-comp_diff_0.00_area_0.00/smo_mca.png\" width=\"455\">\n",
    "  </p> \n",
    "</td>\n",
    "</tr></table>\n"
   ]
  },
  {
   "cell_type": "markdown",
   "id": "bd3eda83",
   "metadata": {},
   "source": []
  },
  {
   "cell_type": "markdown",
   "id": "4776f644",
   "metadata": {},
   "source": []
  },
  {
   "cell_type": "markdown",
   "id": "cbd59f28",
   "metadata": {},
   "source": []
  },
  {
   "cell_type": "markdown",
   "id": "75d6c878",
   "metadata": {},
   "source": []
  },
  {
   "cell_type": "markdown",
   "id": "2a677b4f",
   "metadata": {},
   "source": []
  },
  {
   "cell_type": "markdown",
   "id": "f2cf286a",
   "metadata": {},
   "source": [
    "$$ \\frac{dm}{dt} = C m^{expo\\_coag} \\bigg( 1.0 - \\frac{m}{m_{max}} \\bigg) - F (m^{expo\\_{frag}})$$"
   ]
  }
 ],
 "metadata": {
  "kernelspec": {
   "display_name": "Python 3 (ipykernel)",
   "language": "python",
   "name": "python3"
  },
  "language_info": {
   "codemirror_mode": {
    "name": "ipython",
    "version": 3
   },
   "file_extension": ".py",
   "mimetype": "text/x-python",
   "name": "python",
   "nbconvert_exporter": "python",
   "pygments_lexer": "ipython3",
   "version": "3.12.3"
  }
 },
 "nbformat": 4,
 "nbformat_minor": 5
}
